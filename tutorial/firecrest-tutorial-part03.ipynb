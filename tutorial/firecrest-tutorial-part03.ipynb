{
 "cells": [
  {
   "cell_type": "markdown",
   "metadata": {},
   "source": [
    "# FirecREST Tutorial - Part 3: Job submission\n",
    "\n",
    "Set your credentials like before and run the cell. You should get status code `200`.\n",
    "\n",
    "#### Cell 3A"
   ]
  },
  {
   "cell_type": "code",
   "execution_count": null,
   "metadata": {},
   "outputs": [],
   "source": [
    "import requests\n",
    "import time\n",
    "import tutorial\n",
    "\n",
    "\n",
    "FIRECREST_IP = 'https://firecrest-tds.cscs.ch:8443'\n",
    "\n",
    "TOKEN=''\n",
    "USER=''\n",
    "DIR=''\n",
    "\n",
    "response = requests.get(\n",
    "    url=f'{FIRECREST_IP}/status/systems',\n",
    "    headers={'Authorization': f'Bearer {TOKEN}'}\n",
    ")\n",
    "\n",
    "tutorial.handle_response(response)"
   ]
  },
  {
   "cell_type": "markdown",
   "metadata": {},
   "source": [
    "# Run the next cell to get the slides for the job submission"
   ]
  },
  {
   "cell_type": "code",
   "execution_count": null,
   "metadata": {},
   "outputs": [],
   "source": [
    "tutorial.show_compute_sbatch()"
   ]
  },
  {
   "cell_type": "markdown",
   "metadata": {},
   "source": [
    "First let's create locally the job script for our submission. Our job is going to perform a simple SHA-1 calculation of the file we uploaded in the last section.\n",
    "\n",
    "**Remember to change the output of the script to your directory!**\n",
    "\n",
    "#### Cell 3B"
   ]
  },
  {
   "cell_type": "code",
   "execution_count": null,
   "metadata": {},
   "outputs": [],
   "source": [
    "%%writefile files/firecrest_script.sh\n",
    "#!/bin/bash\n",
    "\n",
    "#SBATCH --job-name=test\n",
    "#SBATCH --output=/scratch/snx3000/firectut/account1/output_%j.out\n",
    "#SBATCH --ntasks=1\n",
    "#SBATCH --time=01:00\n",
    "\n",
    "sha1sum /scratch/snx3000/firectut/firecrest_input_file.txt"
   ]
  },
  {
   "cell_type": "markdown",
   "metadata": {},
   "source": [
    "For our the job submission task we will use two API calls:\n",
    "\n",
    "1. We will create the FirecREST task of the job submission.\n",
    "   The definition of the request is [here](http://148.187.97.201:8000/#/Compute/post_compute_jobs).\n",
    "2. We check the status of the task with a second [request](http://148.187.97.201:8000/#/Tasks/get_tasks__taskid_). If the job is submitted correctly we can get the slurm jobid of the job.\n",
    "\n",
    "The first call is the following:\n",
    "\n",
    "#### Cell 2C"
   ]
  },
  {
   "cell_type": "code",
   "execution_count": null,
   "metadata": {},
   "outputs": [],
   "source": [
    "machine = 'daint'\n",
    "localPath = 'files/firecrest_script.sh'\n",
    "\n",
    "response = requests.post(\n",
    "    url=f'{FIRECREST_IP}/compute/jobs',\n",
    "    headers={'Authorization': f'Bearer {TOKEN}',\n",
    "             'X-Machine-Name': machine},\n",
    "    files={'file': open(localPath, 'rb')}\n",
    ")\n",
    "\n",
    "tutorial.handle_response(response)"
   ]
  },
  {
   "cell_type": "markdown",
   "metadata": {},
   "source": [
    "If everything went well you should get the message `Task created` in the json response. This does **not** necessarily mean that your job is created successfully. This only means that the FirecREST task was created.\n",
    "\n",
    "Before running the next cell, copy the taskid from the output and set it correctly. In python it should be a string so don't forget the quotes around the task ID.\n",
    "\n",
    "#### Cell 2D"
   ]
  },
  {
   "cell_type": "code",
   "execution_count": null,
   "metadata": {},
   "outputs": [],
   "source": [
    "taskid = # Fill this assignment with the correct task_id\n",
    "\n",
    "response = requests.get(\n",
    "    url=f'{FIRECREST_IP}/tasks/{taskid}',\n",
    "    headers={'Authorization': f'Bearer {TOKEN}'}\n",
    ")\n",
    "\n",
    "tutorial.handle_response(response)"
   ]
  },
  {
   "cell_type": "markdown",
   "metadata": {},
   "source": [
    "If your submission was successful you should get the slurm information in the \"data\" field.\n",
    "\n",
    "**All the other fields of the json response are about the FirecREST task and not the scheduler.**\n",
    "\n",
    "### Exercise:\n",
    "\n",
    "1. If you want information about all the tasks of your user, not a specific `task_id` then you should make a call to the `/tasks/` endpoint, without any path parameter. Try to fill the request on your own to get information about all you tasks.\n",
    "\n",
    "<a id='all-tasks-cell'></a>\n",
    "#### Cell 2E"
   ]
  },
  {
   "cell_type": "code",
   "execution_count": null,
   "metadata": {
    "scrolled": true
   },
   "outputs": [],
   "source": [
    "response = requests.get(\n",
    "    headers={'Authorization': f'Bearer {TOKEN}'},\n",
    "    url= # Fill this assignment with the correct endpoint\n",
    ")\n",
    "\n",
    "tutorial.handle_response(response)"
   ]
  },
  {
   "cell_type": "markdown",
   "metadata": {},
   "source": [
    "Run the next cell to get the solution.\n",
    "\n",
    "#### Cell 2F"
   ]
  },
  {
   "cell_type": "code",
   "execution_count": null,
   "metadata": {
    "scrolled": true
   },
   "outputs": [],
   "source": [
    "%cat solutions/all_tasks.py"
   ]
  },
  {
   "cell_type": "markdown",
   "metadata": {},
   "source": [
    "## Check for the job's status"
   ]
  },
  {
   "cell_type": "markdown",
   "metadata": {},
   "source": [
    "As soon as we get the slurm job ID, we can get more information on the progress of that job. The call to the `/compute/jobs/{jobid}` endpoint is going to start a FirecREST task for that purpose.\n",
    "\n",
    "Just like with the job submission, this is a two-calls process:\n",
    "\n",
    "1. Make a call to FirecREST to make a new task and get the task's ID.\n",
    "2. Make a call to FirecREST with this task ID to see its results.\n",
    "\n",
    "Before running this cell you should set the jobid to the jobid of the job you want to test.\n",
    "\n",
    "#### Cell 2G"
   ]
  },
  {
   "cell_type": "code",
   "execution_count": null,
   "metadata": {},
   "outputs": [],
   "source": [
    "machine = 'daint'\n",
    "jobid = # Fill this assignment with the correct jobid\n",
    "\n",
    "response = requests.get(\n",
    "    url=f'{FIRECREST_IP}/compute/jobs/{jobid}',\n",
    "    headers={'Authorization': f'Bearer {TOKEN}',\n",
    "             'X-Machine-Name': machine}\n",
    ")\n",
    "\n",
    "tutorial.handle_response(response)\n",
    "\n",
    "# response.ok will be True if no error occured\n",
    "if response.ok:\n",
    "    taskid = response.json()['task_id']\n",
    "    \n",
    "    print(f\"\\n{50*'.'}\")\n",
    "    time.sleep(1)\n",
    "    \n",
    "    response = requests.get(\n",
    "        url=f'{FIRECREST_IP}/tasks/{taskid}',\n",
    "        headers={'Authorization': f'Bearer {TOKEN}'}\n",
    "    )\n",
    "\n",
    "    tutorial.handle_response(response)"
   ]
  },
  {
   "cell_type": "markdown",
   "metadata": {},
   "source": [
    "### Exercises:\n",
    "\n",
    "1. Try to explain why you might have got this error in the second call: `slurm_load_jobs error: Invalid job id specified`\n",
    "2. Try to remove the sleep from the last cell and see what happens.\n",
    "\n",
    "Run the next cell to get a hint for question 1.\n",
    "The second cell includes the solution to both answers.\n",
    "\n",
    "#### Cell 2H"
   ]
  },
  {
   "cell_type": "code",
   "execution_count": null,
   "metadata": {},
   "outputs": [],
   "source": [
    "%cat solutions/invalid_id_hint.txt"
   ]
  },
  {
   "cell_type": "markdown",
   "metadata": {},
   "source": [
    "#### Cell 2I"
   ]
  },
  {
   "cell_type": "code",
   "execution_count": null,
   "metadata": {},
   "outputs": [],
   "source": [
    "%cat solutions/job_status.txt"
   ]
  },
  {
   "cell_type": "markdown",
   "metadata": {},
   "source": [
    "## Job persistent accounting information\n",
    "\n",
    "If you want persistent information for older jobs you should make a request in the `compute/acct` endpoint like below.\n",
    "\n",
    "#### Cell 2J"
   ]
  },
  {
   "cell_type": "code",
   "execution_count": null,
   "metadata": {},
   "outputs": [],
   "source": [
    "machine = 'daint'\n",
    "jobid = # Fill this assignment with the correct jobid\n",
    "\n",
    "response = requests.get(\n",
    "    url=f'{FIRECREST_IP}/compute/acct',\n",
    "    headers={'Authorization': f'Bearer {TOKEN}',\n",
    "             'X-Machine-Name': machine},\n",
    "    params={'jobs': f'{jobid}'}\n",
    ")\n",
    "\n",
    "tutorial.handle_response(response)\n",
    "\n",
    "# response.ok will be True if no error occured\n",
    "if response.ok:\n",
    "    taskid = response.json()['task_id']\n",
    "    \n",
    "    print(f\"\\n{50*'.'}\")\n",
    "    time.sleep(1)\n",
    "    \n",
    "    response = requests.get(\n",
    "        url=f'{FIRECREST_IP}/tasks/{taskid}',\n",
    "        headers={'Authorization': f'Bearer {TOKEN}'}\n",
    "    )\n",
    "\n",
    "    tutorial.handle_response(response)"
   ]
  },
  {
   "cell_type": "markdown",
   "metadata": {},
   "source": [
    "### Job output\n",
    "\n",
    "When FirecREST submits a job on behalf of the user, a directory will be created in the `$SCRATCH` directory of the corresponing machine.\n",
    "\n",
    "The directory is named `firecrest` and its subdirectories are named after the task IDs of the job submissions. In these subdirectories the user can see the job script that was used for the submission as well as the output file(s) if their location is not specified."
   ]
  },
  {
   "cell_type": "code",
   "execution_count": null,
   "metadata": {},
   "outputs": [],
   "source": []
  }
 ],
 "metadata": {
  "kernelspec": {
   "display_name": "Python 3",
   "language": "python",
   "name": "python3"
  },
  "language_info": {
   "codemirror_mode": {
    "name": "ipython",
    "version": 3
   },
   "file_extension": ".py",
   "mimetype": "text/x-python",
   "name": "python",
   "nbconvert_exporter": "python",
   "pygments_lexer": "ipython3",
   "version": "3.7.7"
  }
 },
 "nbformat": 4,
 "nbformat_minor": 4
}
