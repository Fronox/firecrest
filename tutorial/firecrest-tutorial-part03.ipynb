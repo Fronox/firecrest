{
 "cells": [
  {
   "cell_type": "markdown",
   "metadata": {},
   "source": [
    "# FirecREST Tutorial - Part 3: Data Transfer\n",
    "\n",
    "\n",
    "Set your credentials like before and run the cell. You should get status code `200`.\n",
    "\n",
    "#### Cell 3A"
   ]
  },
  {
   "cell_type": "code",
   "execution_count": null,
   "metadata": {},
   "outputs": [],
   "source": [
    "import json\n",
    "import requests\n",
    "import time\n",
    "\n",
    "# Set you token here\n",
    "TOKEN='<token>'\n",
    "FIRECREST_IP = 'http://148.187.98.88:8000'\n",
    "\n",
    "# This function is useful only to print the response in a nicer way\n",
    "def handle_response(response):\n",
    "    print(\"\\nResponse status code:\")\n",
    "    print(response.status_code)\n",
    "    print(\"\\nResponse headers:\")\n",
    "    print(json.dumps(dict(response.headers), indent=4))\n",
    "    print(\"\\nResponse json:\")\n",
    "    try:\n",
    "        print(json.dumps(response.json(), indent=4))\n",
    "    except json.JSONDecodeError:\n",
    "        print(\"-\")\n",
    "        \n",
    "response = requests.get(\n",
    "    url=f'{FIRECREST_IP}/status/systems',\n",
    "    headers={'Authorization': f'Bearer {TOKEN}'}\n",
    ")\n",
    "\n",
    "handle_response(response)"
   ]
  },
  {
   "cell_type": "markdown",
   "metadata": {},
   "source": [
    "## Upload a bigger file through the Storage microservice\n",
    "\n",
    "For uploading small files the blocking call that we used in a previous section is enough. When the file we want to upload to a machine’s filesystem is bigger than 5MB, we have to use the Storage microservice.\n",
    "\n",
    "In order for you to do this, you won't upload the file directly through FirecREST but to a staging area. This staging area is the Object Storage and you can get more information [here](https://user.cscs.ch/storage/object_storage/).\n",
    "\n",
    "This task will be split into more steps but it will correspond to one FirecREST task, so we have to keep track of one task ID.\n",
    "The steps are:\n",
    "\n",
    "1. the user asks FirecREST for a link to the staging area\n",
    "2. the user uploads the file to the staging area\n",
    "3. FirecREST will poll the staging area and, as soon as the file is uploaded it will transfer it to the filesystem\n",
    "\n",
    "The FirecREST task will have the following status codes in different stages of the upload:\n",
    "\n",
    "Status Code | Description\n",
    ":---: | :---\n",
    "110 | Waiting for Form URL from Object Storage to be retrieved\n",
    "111 | Form URL from Object Storage received\n",
    "112 | Object Storage confirms that upload to Object Storage has finished\n",
    "113 | Download from Object Storage to server has started\n",
    "114 | Download from Object Storage to server has finished\n",
    "115 | Download from Object Storage error\n",
    "\n",
    "The first step is to send a `POST` request to FirecREST, to the `/storage/xfer-external/upload` endpoint. Besides the `Authorization` token, we have to include the local path of the file we are going to upload (`sourcePath`) and the target location of the transfer (`targetPath`). Both `sourcePath` and `targetPath` are form data parameters.\n",
    "\n",
    "> A small tip before running the next cell. You can click on the output of the cell to minimize it and double click to hide it completely.\n",
    "\n",
    "#### Cell 3B"
   ]
  },
  {
   "cell_type": "code",
   "execution_count": null,
   "metadata": {
    "scrolled": false
   },
   "outputs": [],
   "source": [
    "targetPath = '/home/llama'\n",
    "sourcePath = 'files/firecrest_input_file.txt'\n",
    "\n",
    "response = requests.post(\n",
    "    url=f'{FIRECREST_IP}/storage/xfer-external/upload',\n",
    "    headers={'Authorization': f'Bearer {TOKEN}'},\n",
    "    data={'targetPath': targetPath,\n",
    "          'sourcePath': sourcePath}\n",
    ")\n",
    "\n",
    "handle_response(response)\n",
    "\n",
    "# response.ok will be True if no error occured\n",
    "if response.ok:\n",
    "    taskid = response.json()['task_id']\n",
    "    \n",
    "    print(f\"\\n{50*'.'}\")\n",
    "    time.sleep(1)\n",
    "    \n",
    "    response = requests.get(\n",
    "        url=f'{FIRECREST_IP}/tasks/{taskid}',\n",
    "        headers={'Authorization': f'Bearer {TOKEN}'}\n",
    "    )\n",
    "\n",
    "    handle_response(response)"
   ]
  },
  {
   "cell_type": "markdown",
   "metadata": {},
   "source": [
    "If the call was successful, the output will be very long. The parts that we care about are the `status` of the FirecREST task, which should be `Form URL from Object Storage received` and the command that FirecREST provides.\n",
    "\n",
    "In python json objects are just dictionaries, so we can easily isolate the fields we are interested in.\n",
    "\n",
    "#### Cell 3C"
   ]
  },
  {
   "cell_type": "code",
   "execution_count": null,
   "metadata": {
    "scrolled": true
   },
   "outputs": [],
   "source": [
    "print(f\"Task ID: {response.json()['task']['hash_id']}\\n\"\n",
    "      f\"Task status code: {response.json()['task']['status']}\\n\"\n",
    "      f\"Task status description: {response.json()['task']['description']}\\n\")\n",
    "\n",
    "# You can isolate the \"command\" field, that holds the useful information\n",
    "print(response.json()['task']['data']['msg']['command'])"
   ]
  },
  {
   "cell_type": "markdown",
   "metadata": {},
   "source": [
    "Copy the command after the exclamation mark in the cell below to execute it.\n",
    "\n",
    "#### Cell 3D"
   ]
  },
  {
   "cell_type": "code",
   "execution_count": null,
   "metadata": {},
   "outputs": [],
   "source": [
    "# Add the curl command after the exclamation mark and run the cell\n",
    "! curl ..."
   ]
  },
  {
   "cell_type": "markdown",
   "metadata": {},
   "source": [
    "### Exercise:\n",
    "\n",
    "Let's check again on the FirecREST task, we have done it already many times. Make a `GET` request to `/tasks/{taskid}` and get the status of the task. What is the status of the task now?\n",
    "\n",
    "<a id='get-status-cell'></a>\n",
    "#### Cell 3E"
   ]
  },
  {
   "cell_type": "code",
   "execution_count": null,
   "metadata": {},
   "outputs": [],
   "source": [
    "# Try to fill the call yourself and run it here.\n",
    "# If you run the next cell you will get the answer.\n"
   ]
  },
  {
   "cell_type": "markdown",
   "metadata": {},
   "source": [
    "#### Cell 3F"
   ]
  },
  {
   "cell_type": "code",
   "execution_count": null,
   "metadata": {},
   "outputs": [],
   "source": [
    "%cat solutions/get_status_id.py\n"
   ]
  },
  {
   "cell_type": "markdown",
   "metadata": {},
   "source": [
    "### Exercise: Download the output through the Storage microservice\n",
    "\n",
    "Just like we did with the `/storage/xfer-external/download` call, the user will not directly download the file from FirecREST but through a staging area.\n",
    "\n",
    "The workflow of this task is:\n",
    "\n",
    "1. The user has to make a request to FirecREST to download the file from `sourcePath`, this should be the absolute path in the `cluster` filesystem. This requires at least two calls from the user:\n",
    "  1. Make a request to FirecREST to create the task of external uploading.\n",
    "  2. Poll FirecREST the task until the file has been transfered to the staging area. When it is ready FirecREST will reply with the URL from which we will download it.\n",
    "2. After receiving the URL you have to download the file with a simple `wget` from the link that will be provided by FirecREST.\n",
    "\n",
    "The FirecREST task will have the following status codes in different stages of the download:\n",
    "\n",
    "Status Code | Description\n",
    ":---: | :---\n",
    "116 | Started upload from filesystem to Object Storage\n",
    "117 | Upload from filesystem to Object Storage has finished succesfully\n",
    "118 | Upload from filesystem to Object Storage has finished with errors\n",
    "\n",
    "#### Step 1A: Make the FirecREST request\n",
    "\n",
    "In order to fill the request keep in mind that:\n",
    "\n",
    "- It is a `POST` request.\n",
    "- The endpoint is `/storage/xfer-external/download`.\n",
    "- You should pass in the header arguments the `Authorization` token.\n",
    "- The last argument is `sourcePath` and it a form parameter.\n",
    "\n",
    "#### Cell 3G"
   ]
  },
  {
   "cell_type": "code",
   "execution_count": null,
   "metadata": {},
   "outputs": [],
   "source": [
    "sourcePath = '/home/llama/res.txt'\n",
    "\n",
    "response = requests. # Try to fill the request yourself\n",
    "\n",
    "handle_response(response)"
   ]
  },
  {
   "cell_type": "markdown",
   "metadata": {},
   "source": [
    "You can get the answer by running the next cell.\n",
    "\n",
    "#### Cell 3H"
   ]
  },
  {
   "cell_type": "code",
   "execution_count": null,
   "metadata": {},
   "outputs": [],
   "source": [
    "%cat solutions/external_download.py\n"
   ]
  },
  {
   "cell_type": "markdown",
   "metadata": {},
   "source": [
    "#### Step 1B: Based on the reply, check for the status of the task.\n",
    "\n",
    "You have already done this part in [this](#get-status-cell) exercise. Copy it with the correct `taskid`.\n",
    "\n",
    "#### Cell 3I"
   ]
  },
  {
   "cell_type": "code",
   "execution_count": null,
   "metadata": {},
   "outputs": [],
   "source": [
    "# Make a request to FirecREST to get the status of the task you just created.\n"
   ]
  },
  {
   "cell_type": "markdown",
   "metadata": {},
   "source": [
    "Through python we can isolate the field of the response that we are interested in: \n",
    "\n",
    "#### Cell 3J"
   ]
  },
  {
   "cell_type": "code",
   "execution_count": null,
   "metadata": {
    "scrolled": true
   },
   "outputs": [],
   "source": [
    "print(response.json()['task']['data'])"
   ]
  },
  {
   "cell_type": "markdown",
   "metadata": {},
   "source": [
    "#### Cell 3K"
   ]
  },
  {
   "cell_type": "code",
   "execution_count": null,
   "metadata": {},
   "outputs": [],
   "source": [
    "# Copy the link and finish the download in bash\n",
    "!wget -O res.txt \"...\"\n"
   ]
  },
  {
   "cell_type": "markdown",
   "metadata": {},
   "source": [
    "#### Cell 3L"
   ]
  },
  {
   "cell_type": "code",
   "execution_count": null,
   "metadata": {},
   "outputs": [],
   "source": [
    "!cat res.txt"
   ]
  },
  {
   "cell_type": "markdown",
   "metadata": {},
   "source": [
    "#### Cell 3M"
   ]
  },
  {
   "cell_type": "code",
   "execution_count": null,
   "metadata": {},
   "outputs": [],
   "source": [
    "!sha1sum firecrest_input_file.txt"
   ]
  },
  {
   "cell_type": "markdown",
   "metadata": {},
   "source": [
    "If everything went right you should be getting the same result. Now feel free to create more python cells and experiment with more FirecREST calls."
   ]
  },
  {
   "cell_type": "code",
   "execution_count": null,
   "metadata": {},
   "outputs": [],
   "source": []
  }
 ],
 "metadata": {
  "kernelspec": {
   "display_name": "Python 3",
   "language": "python",
   "name": "python3"
  },
  "language_info": {
   "codemirror_mode": {
    "name": "ipython",
    "version": 3
   },
   "file_extension": ".py",
   "mimetype": "text/x-python",
   "name": "python",
   "nbconvert_exporter": "python",
   "pygments_lexer": "ipython3",
   "version": "3.7.4"
  }
 },
 "nbformat": 4,
 "nbformat_minor": 2
}