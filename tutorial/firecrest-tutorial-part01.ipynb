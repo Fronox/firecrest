{
 "cells": [
  {
   "cell_type": "markdown",
   "metadata": {},
   "source": [
    "# FirecREST Tutorial - Part 1: Introduction"
   ]
  },
  {
   "cell_type": "markdown",
   "metadata": {},
   "source": [
    "The point of the tutorial is to learn how to interact with the FirecREST’s API through a typical workflow.\n",
    "\n",
    "## Overview of the tutorial\n",
    "\n",
    "1. Learn how to make http requests in python, by testing the most common ones: `GET` and `POST`\n",
    "2. Learn how to transfer files through the `Storage Microservice`\n",
    "3. Learn how to submit and poll for jobs through the `Compute Microservice`\n",
    "\n",
    "To run a jupyter cell click on it and then press CTRL+Enter. Let's try the first one to make sure we have the necessary packages."
   ]
  },
  {
   "cell_type": "markdown",
   "metadata": {},
   "source": [
    "#### Cell 1A"
   ]
  },
  {
   "cell_type": "code",
   "execution_count": null,
   "metadata": {},
   "outputs": [],
   "source": [
    "import json\n",
    "import jwt\n",
    "import requests"
   ]
  },
  {
   "cell_type": "markdown",
   "metadata": {},
   "source": [
    "#### Cell 1B"
   ]
  },
  {
   "cell_type": "code",
   "execution_count": null,
   "metadata": {},
   "outputs": [],
   "source": [
    "# If that doesn't work you may need to install requests package:\n",
    "!pip install --user pyjwt[crypto]\n",
    "!pip install --user requests"
   ]
  },
  {
   "cell_type": "markdown",
   "metadata": {},
   "source": [
    "### HTTP requests basics\n",
    "\n",
    "Before starting using the API it's important we are all familiar with HTTP requests and how they are used.\n",
    "\n",
    "FirecREST API is based on REST principles: data resources are accessed via standard HTTP requests to an API endpoint.\n",
    "\n",
    "Every request is made of:\n",
    "\n",
    "- the endpoint or requested URL\n",
    "- the method (one of GET, POST, PUT and DELETE depending on the appropriate action)\n",
    "- the headers (metadata necessary for the request)\n",
    "- the body (form data, files to be uploaded, etc)\n",
    "\n",
    "The necessary information for every call is passed through query parameters, the headers and the body of the request. You can find all the available API calls of FirecREST in the reference section and here is a quick overview of the methods:\n",
    "\n",
    "Method | Description\n",
    ":---: | :---\n",
    "GET | Used for retrieving resources.\n",
    "POST | Used for creating/updating resources.\n",
    "PUT | Used for creating/updating resources.*\n",
    "DELETE | Used for deleting resources.\n",
    "\n",
    "\\* The difference between POST and PUT is that PUT requests are idempotent. That is, calling the same PUT request multiple times will always produce the same result. In contrast, calling a POST request repeatedly have side effects of creating the same resource multiple times.\n",
    "\n",
    "Similar to the requests, the response of FirecREST will consist of:\n",
    "\n",
    "- a status code\n",
    "- the headers\n",
    "- the body in json form\n",
    "\n",
    "Here is a quick overview of the status codes and their meaning.\n",
    "\n",
    "\\# | Category | Description\n",
    ":---: | :--- | :---\n",
    "1xx | Informational | Communicates transfer protocol-level information.\n",
    "2xx | Success | Indicates that the client’s request was accepted successfully.\n",
    "3xx | Redirection | Indicates that the client must take some additional action in order to complete their request.\n",
    "4xx | Client Error | This category of error status codes points the finger at clients.\n",
    "5xx | Server Error | The server takes responsibility for these error status codes.\n",
    "\n",
    "## The Setup\n",
    "\n",
    "For this tutorial we are all going to use the same service account on Piz Daint, `firectut`. To avoid conflicts, you will all work in different directories of this user. Make sure you set the fields in the following cell and run the cell.\n",
    "\n",
    "#### Cell 1C"
   ]
  },
  {
   "cell_type": "code",
   "execution_count": null,
   "metadata": {},
   "outputs": [],
   "source": [
    "FIRECREST_IP = 'https://firecrest-tds.cscs.ch:8443'\n",
    "\n",
    "TOKEN=''\n",
    "USER=''\n",
    "DIR=''"
   ]
  },
  {
   "cell_type": "markdown",
   "metadata": {},
   "source": [
    "First of all let's look at the `TOKEN`. We can decode the information that FirecREST is getting from the token with the [PyJWT](https://pyjwt.readthedocs.io/en/latest/index.html) python library."
   ]
  },
  {
   "cell_type": "code",
   "execution_count": null,
   "metadata": {},
   "outputs": [],
   "source": [
    "decoded_token = jwt.decode(TOKEN, verify=False)\n",
    "print(json.dumps(decoded_token, indent=4))"
   ]
  },
  {
   "cell_type": "markdown",
   "metadata": {},
   "source": [
    "## Test the credentials with a simple call\n",
    "\n",
    "#### Cell 1D"
   ]
  },
  {
   "cell_type": "code",
   "execution_count": null,
   "metadata": {},
   "outputs": [],
   "source": [
    "response = requests.get(\n",
    "    url=f'{FIRECREST_IP}/status/systems',\n",
    "    headers={'Authorization': f'Bearer {TOKEN}'}\n",
    ")\n",
    "\n",
    "print(response.status_code)\n",
    "print(response.headers)\n",
    "print(response.json())"
   ]
  },
  {
   "cell_type": "markdown",
   "metadata": {},
   "source": [
    "We can see the three parts of the response:\n",
    "\n",
    "1. the status code in `response.status_code`\n",
    "2. the headers in `response.headers`\n",
    "3. the json part by calling `response.json()`\n",
    "\n",
    "But the output is not very readable, so from now on we will print the responses with the function `handle_response`.\n",
    "Run the next cell to get the output in a better format.\n",
    "\n",
    "#### Cell 1E"
   ]
  },
  {
   "cell_type": "code",
   "execution_count": null,
   "metadata": {},
   "outputs": [],
   "source": [
    "import tutorial\n",
    "\n",
    "\n",
    "tutorial.handle_response(response)"
   ]
  },
  {
   "cell_type": "markdown",
   "metadata": {},
   "source": [
    "## List the contents of a directory\n",
    "\n",
    "We will start with a call that returns the contents of a directory in the filesystem.\n",
    "\n",
    "[Link to FirecREST call](http://148.187.97.201:8000/#/Utilities/get_utilities_ls)\n",
    "\n",
    "Things to notice:\n",
    "\n",
    "1. This is a `GET` request\n",
    "- The endpoint is `/utilities/ls`\n",
    "- Set the required fields\n",
    "  - `targetPath`, which will be the location in the machine's filesystem\n",
    "  - `X-Machine-Name`, the filesystem we are interested in\n",
    "  - the `Authorization` token"
   ]
  },
  {
   "cell_type": "markdown",
   "metadata": {},
   "source": [
    "Replace `targetPath` with your user's home and run the cell.\n",
    "<a id='ls-cell'></a>\n",
    "#### Cell 1F"
   ]
  },
  {
   "cell_type": "code",
   "execution_count": null,
   "metadata": {},
   "outputs": [],
   "source": [
    "targetPath = f'/scratch/snx3000/{USER}/{DIR}'\n",
    "\n",
    "# Path where user firectut doesn't have permission\n",
    "# targetPath = f'/scratch/snx3000/eirinik/no-permission'\n",
    "\n",
    "# Invalid path\n",
    "# targetPath = f'/users/{USER}'\n",
    "\n",
    "machine = 'daint'\n",
    "\n",
    "response = requests.get(\n",
    "    url=f'{FIRECREST_IP}/utilities/ls',\n",
    "    headers={'Authorization': f'Bearer {TOKEN}',\n",
    "             'X-Machine-Name': machine},\n",
    "    params={'targetPath': f'{targetPath}'}\n",
    ")\n",
    "\n",
    "tutorial.handle_response(response)"
   ]
  },
  {
   "cell_type": "markdown",
   "metadata": {},
   "source": [
    "### Exercise 1: Finding error messages on the response in case of invalid requests\n",
    "\n",
    "1. Change `targetPath` to another directory, where you don't have access, run it and find the corresponding error message in the response.\n",
    "1. Change `targetPath` to an invalid path, run it and find the corresponding error message in the response.\n",
    "\n",
    "Run the next cell to see the solutions.\n",
    "\n",
    "#### Cell 1G"
   ]
  },
  {
   "cell_type": "code",
   "execution_count": null,
   "metadata": {},
   "outputs": [],
   "source": [
    "%cat solutions/ls_errors.txt"
   ]
  },
  {
   "cell_type": "markdown",
   "metadata": {},
   "source": [
    "### cURL equivalent\n",
    "\n",
    "```bash\n",
    "curl -X GET \"${FIRECREST_IP}/utilities/ls?targetPath=/scratch/snx3000/${USER}\" -H \"Authorization: Bearer ${TOKEN}\" -H \"X-Machine-Name: cluster\"\n",
    "```"
   ]
  },
  {
   "cell_type": "markdown",
   "metadata": {},
   "source": [
    "## Upload a small file with the blocking call\n",
    "\n",
    "The second type of calls we are going to look at today is a `POST` request. For this purpose we are going to upload a small file (<5MB) to our directory."
   ]
  },
  {
   "cell_type": "code",
   "execution_count": null,
   "metadata": {},
   "outputs": [],
   "source": [
    "tutorial.show('utilities_upload')"
   ]
  },
  {
   "cell_type": "markdown",
   "metadata": {},
   "source": [
    "For this exercise run the next cell to create one.\n",
    "\n",
    "#### Cell 1H"
   ]
  },
  {
   "cell_type": "code",
   "execution_count": null,
   "metadata": {},
   "outputs": [],
   "source": [
    "%%writefile files/firecrest_input_file.txt\n",
    "Hello from the client!"
   ]
  },
  {
   "cell_type": "markdown",
   "metadata": {},
   "source": [
    "Let's first have a look at the request in this [link](http://148.187.97.201:8000/#/Utilities/post_utilities_upload).\n",
    "\n",
    "We will only set the required arguments: `targetPath`, `X-Machine-Name`, `file` and `Authorization`. Notice that `targetPath` is a **form-data** parameter and not a **query** parameter as before, so it is passed as an argument in the `data` dictionary.\n",
    "\n",
    "In order to pass the `file` argument, we don't just give the name of the file as a string; we pass a file object in binary form. For this reason we will open the file with the flags `'rb'`.\n",
    "\n",
    "#### Cell 1I"
   ]
  },
  {
   "cell_type": "code",
   "execution_count": null,
   "metadata": {},
   "outputs": [],
   "source": [
    "targetPath = f'/scratch/snx3000/{USER}/{DIR}'\n",
    "machine = 'daint'\n",
    "localPath = 'files/firecrest_input_file.txt'\n",
    "\n",
    "response = requests.post(\n",
    "    url=f'{FIRECREST_IP}/utilities/upload',\n",
    "    headers={'Authorization': f'Bearer {TOKEN}',\n",
    "             'X-Machine-Name': machine},\n",
    "    data={'targetPath': targetPath},\n",
    "    files={'file': open(localPath, 'rb')}\n",
    ")\n",
    "\n",
    "tutorial.handle_response(response)"
   ]
  },
  {
   "cell_type": "markdown",
   "metadata": {},
   "source": [
    "### cURL equivalent\n",
    "\n",
    "```bash\n",
    "curl -X POST \"${FIRECREST_IP}/utilities/upload\" \\\n",
    "     -H \"Authorization: Bearer ${TOKEN}\" \\\n",
    "     -H \"X-Machine-Name: daint\" \\\n",
    "     -F \"targetPath=/scratch/snx3000/${USER}/${DIR}\" \\\n",
    "     -F \"file=@files/firecrest_input_file.txt\"\n",
    "```"
   ]
  },
  {
   "cell_type": "markdown",
   "metadata": {},
   "source": [
    "### Exercise:\n",
    "\n",
    "If you want to make sure you have uploaded your file successfully you can run the [call](#ls-cell) we saw in the previous section."
   ]
  }
 ],
 "metadata": {
  "kernelspec": {
   "display_name": "Python 3",
   "language": "python",
   "name": "python3"
  },
  "language_info": {
   "codemirror_mode": {
    "name": "ipython",
    "version": 3
   },
   "file_extension": ".py",
   "mimetype": "text/x-python",
   "name": "python",
   "nbconvert_exporter": "python",
   "pygments_lexer": "ipython3",
   "version": "3.7.4"
  }
 },
 "nbformat": 4,
 "nbformat_minor": 4
}
