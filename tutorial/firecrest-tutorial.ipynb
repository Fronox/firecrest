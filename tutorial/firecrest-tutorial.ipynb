{
 "cells": [
  {
   "cell_type": "markdown",
   "metadata": {},
   "source": [
    "# FirecREST Tutorial"
   ]
  },
  {
   "cell_type": "markdown",
   "metadata": {},
   "source": [
    "To run a jupyter cell click on it and then press CTRL+Enter. Let's try the first one to make sure we have the necessary packages."
   ]
  },
  {
   "cell_type": "code",
   "execution_count": null,
   "metadata": {},
   "outputs": [],
   "source": [
    "import json\n",
    "import requests\n",
    "import time"
   ]
  },
  {
   "cell_type": "code",
   "execution_count": null,
   "metadata": {},
   "outputs": [],
   "source": [
    "# If that doesn't work you may need to install requests package:\n",
    "!pip install --user requests"
   ]
  },
  {
   "cell_type": "markdown",
   "metadata": {},
   "source": [
    "Let's setup the credentials, as well as the FirecREST and Object Storage IPs, as we will use it many times during the tutorial."
   ]
  },
  {
   "cell_type": "code",
   "execution_count": null,
   "metadata": {},
   "outputs": [],
   "source": [
    "TOKEN='<token>'\n",
    "FIRECREST_IP = 'http://148.187.98.88:8000'"
   ]
  },
  {
   "cell_type": "markdown",
   "metadata": {},
   "source": [
    "## Test the credentials with a simple call"
   ]
  },
  {
   "cell_type": "code",
   "execution_count": null,
   "metadata": {},
   "outputs": [],
   "source": [
    "response = requests.get(\n",
    "    url=f'{FIRECREST_IP}/status/systems',\n",
    "    headers={'Authorization': f'Bearer {TOKEN}'}\n",
    ")\n",
    "\n",
    "print(response.status_code)\n",
    "print(response.headers)\n",
    "print(response.json())"
   ]
  },
  {
   "cell_type": "markdown",
   "metadata": {},
   "source": [
    "We can take the three parts of the response:\n",
    "\n",
    "1. the status code by `response.status_code`\n",
    "2. the headers by `response.headers`\n",
    "3. the json part by calling `response.json()`\n",
    "\n",
    "But the output is not very readable, so now we are going to define a function that will print the response in a more readable way.\n",
    "\n",
    "Run the next cell to get the output in better format."
   ]
  },
  {
   "cell_type": "code",
   "execution_count": null,
   "metadata": {},
   "outputs": [],
   "source": [
    "# This function is useful only to print the response in a nicer way\n",
    "def handle_response(response):\n",
    "    print(\"\\nResponse status code:\")\n",
    "    print(response.status_code)\n",
    "    print(\"\\nResponse headers:\")\n",
    "    print(json.dumps(dict(response.headers), indent=4))\n",
    "    print(\"\\nResponse json:\")\n",
    "    try:\n",
    "        print(json.dumps(response.json(), indent=4))\n",
    "    except json.JSONDecodeError:\n",
    "        print(\"-\")\n",
    "\n",
    "handle_response(response)"
   ]
  },
  {
   "cell_type": "markdown",
   "metadata": {},
   "source": [
    "## List the contents of a directory\n",
    "\n",
    "Let's move on to a basic `GET` call on the api.\n",
    "\n",
    "For start let's set only the required fields:\n",
    "\n",
    "- `targetPath`, which will be the location in the machine's filesystem\n",
    "\n",
    "- `X-Machine-Name`, the filesystem we are interested in\n",
    "\n",
    "- the `Authorization` token\n"
   ]
  },
  {
   "cell_type": "markdown",
   "metadata": {},
   "source": [
    "### `GET /utilities/ls`\n",
    "\n",
    "```ini\n",
    "Query Parameters:\n",
    "    targetPath (string) : Absolute filesystem path (Required)\n",
    "    showhidden (boolean) : do not ignore entries starting with ‘.’\n",
    "    pageSize (integer) : Number of entries returned\n",
    "    pageNumber (integer) : Page number  \n",
    "Status Codes:\n",
    "    200 OK : List of contents of path\n",
    "    400 Bad Request : Error listing contents of path \n",
    "Request Headers:\n",
    "    Authorization : Authorization token (Required)\n",
    "    X-Machine-Name : The system name (Required)\n",
    "Response Headers:\n",
    "    X-Machine-Does-Not-Exist : Machine does not exist\n",
    "    X-Machine-Not-Available : Machine is not available\n",
    "    X-Permission-Denied : User does not have permissions to access machine or path\n",
    "    X-Invalid-Path : targetPath is an invalid path\n",
    "    X-Timeout : Command has finished with timeout signal\n",
    "```"
   ]
  },
  {
   "cell_type": "markdown",
   "metadata": {},
   "source": [
    "Replace `targetPath` with your user's home and run the cell.\n",
    "<a id='ls-cell'></a>"
   ]
  },
  {
   "cell_type": "code",
   "execution_count": null,
   "metadata": {
    "scrolled": true
   },
   "outputs": [],
   "source": [
    "targetPath = '/home/llama'\n",
    "machine = 'cluster'\n",
    "\n",
    "response = requests.get(\n",
    "    url=f'{FIRECREST_IP}/utilities/ls',\n",
    "    headers={'Authorization': f'Bearer {TOKEN}',\n",
    "             'X-Machine-Name': machine},\n",
    "    params={'targetPath': f'{targetPath}'}\n",
    ")\n",
    "\n",
    "handle_response(response)"
   ]
  },
  {
   "cell_type": "markdown",
   "metadata": {},
   "source": [
    "### Exercise 1: Finding error messages on the response in case of invalid requests\n",
    "\n",
    "1. Change `targetPath` to an invalid path, run it and find the corresponding error message in the response.\n",
    "2. Change `targetPath` to another's user home ( `llama` ), where you don't have access, run it and find the corresponding error message in the response.\n",
    "\n",
    "Run the next cell to see the solutions."
   ]
  },
  {
   "cell_type": "code",
   "execution_count": null,
   "metadata": {},
   "outputs": [],
   "source": [
    "%cat solutions/ls_errors.txt"
   ]
  },
  {
   "cell_type": "markdown",
   "metadata": {},
   "source": [
    "### cURL equivalent\n",
    "\n",
    "```bash\n",
    "curl -X GET \"${FIRECREST_IP}/utilities/ls?targetPath=/home/llama\" -H \"Authorization: Bearer ${TOKEN}\" -H \"X-Machine-Name: cluster\"\n",
    "```"
   ]
  },
  {
   "cell_type": "markdown",
   "metadata": {},
   "source": [
    "## Upload a small file with the blocking call"
   ]
  },
  {
   "cell_type": "markdown",
   "metadata": {},
   "source": [
    "The second type of calls we are going to look at today is a `POST` request. For this purpose we are going to upload a small file (<5MB) to our cluster. For this exercise you can choose your favorite file or just run the next cell to create one."
   ]
  },
  {
   "cell_type": "code",
   "execution_count": null,
   "metadata": {},
   "outputs": [],
   "source": [
    "%%writefile files/firecrest_input_file.txt\n",
    "Hello!"
   ]
  },
  {
   "cell_type": "markdown",
   "metadata": {},
   "source": [
    "Let's have a look at the request:\n",
    "\n",
    "### `POST /utilities/upload`\n",
    "\n",
    "```ini\n",
    "Form Parameters:\n",
    "    targetPath (string) : Target path to the location where file will be uploaded to on the {X-Machine-Name} filesystem (Required)\n",
    "    file : File to be uploaded (Required)\n",
    "Status Codes:\t  \n",
    "    201 Created : File upload successful\n",
    "    400 Bad Request : Failed to upload file\n",
    "Request Headers:\n",
    "    Authorization : Authorization token (Required)\n",
    "    X-Machine-Name : The system name (Required)\n",
    "Response Headers:\n",
    "    X-Machine-Does-Not-Exist : Machine does not exist\n",
    "    X-Machine-Not-Available : Machine is not available\n",
    "    X-Permission-Denied : User does not have permissions to access machine or path\n",
    "    X-Invalid-Path : targetPath is invalid.\n",
    "```"
   ]
  },
  {
   "cell_type": "markdown",
   "metadata": {},
   "source": [
    "We will only set the required arguments: `targetPath`, `X-Machine-Name`, `file` and `Authorization`. Notice that `targetPath` is a **form** parameter and not a **query** parameter as before, so it is passed as a argument in the `data` dictionary.\n",
    "\n",
    "In order to pass the `file` argument, we don't just give the name of the file as a string; we pass a file object in binary form. For this reason we will open the file with the flags `'rb'`."
   ]
  },
  {
   "cell_type": "code",
   "execution_count": null,
   "metadata": {},
   "outputs": [],
   "source": [
    "targetPath = '/home/llama'\n",
    "machine = 'cluster'\n",
    "localPath = 'files/firecrest_input_file.txt'\n",
    "\n",
    "response = requests.post(\n",
    "    url=f'{FIRECREST_IP}/utilities/upload',\n",
    "    headers={'Authorization': f'Bearer {TOKEN}',\n",
    "             'X-Machine-Name': machine},\n",
    "    data={'targetPath': targetPath},\n",
    "    files={'file': open(localPath, 'rb')}\n",
    ")\n",
    "\n",
    "handle_response(response)"
   ]
  },
  {
   "cell_type": "markdown",
   "metadata": {},
   "source": [
    "### cURL equivalent\n",
    "\n",
    "```bash\n",
    "curl -X POST \"${FIRECREST_IP}/utilities/upload\" \\\n",
    "     -H \"Authorization: Bearer ${TOKEN}\" \\\n",
    "     -H \"X-Machine-Name: cluster\" \\\n",
    "     -F \"targetPath=/home/llama\" \\\n",
    "     -F \"file=@files/firecrest_input_file.txt\"\n",
    "```"
   ]
  },
  {
   "cell_type": "markdown",
   "metadata": {},
   "source": [
    "### Exercise:\n",
    "\n",
    "If you want to make sure you have uploaded your file successfully you can run the [call](#ls-cell) we saw in the previous section."
   ]
  },
  {
   "cell_type": "markdown",
   "metadata": {},
   "source": [
    "## Job submission\n",
    "\n",
    "Before submitting our first job it is important to distinguish between two IDs, slurm’s **job ID** and FirecREST’s **task ID**.\n",
    "\n",
    "**Slurm’s job ID**\n",
    "- unique identifier of a slurm job\n",
    "- it is created by Slurm when the job is submitted\n",
    "- it can be used to track the state of the job with calls like `squeue` or `sacct`\n",
    "\n",
    "Every time FirecREST has to interact with slurm it creates a _task_. This _task_ is not necessarily bound to a **job ID**.\n",
    "\n",
    "**FirecREST’s task ID**\n",
    "- unique identifier of a FirecREST task\n",
    "- it is created and updated by FirecREST when the first call regarding this task is created\n",
    "- it can be used to track the state of the task with the API call we will see later in this section\n"
   ]
  },
  {
   "cell_type": "markdown",
   "metadata": {},
   "source": [
    "First let's create locally the job script for our submission. Our job is going to perform a simple SHA-1 calculation of the file we uploaded in the last section.\n",
    "\n",
    "**Remember to change the output of the script and the location of the `firecrest_input_file.txt` in the cluster so that both paths are in your directory!**"
   ]
  },
  {
   "cell_type": "code",
   "execution_count": null,
   "metadata": {},
   "outputs": [],
   "source": [
    "%%writefile files/firecrest_script.sh\n",
    "#!/bin/bash\n",
    "\n",
    "#SBATCH --job-name=test\n",
    "#SBATCH --output=/home/llama/res.txt\n",
    "#SBATCH --ntasks=1\n",
    "#SBATCH --time=10:00\n",
    "\n",
    "sha1sum /home/llama/firecrest_input_file.txt"
   ]
  },
  {
   "cell_type": "markdown",
   "metadata": {},
   "source": [
    "For our first job submission we will use two API calls:\n",
    "\n",
    "1. We will create the FirecREST task of the job submission.\n",
    "2. We check the status of the task. If the job is submitted correctly we can get the slurm jobid of the job.\n",
    "\n",
    "The definition of the request is:\n",
    "\n",
    "\n",
    "### `POST /compute/jobs`\n",
    "\n",
    "#### Submit Job\n",
    "```ini\n",
    "Form Parameters:\n",
    "    file : Job script of the job (Required)\n",
    "Status Codes\n",
    "    201 Created : Task for job creation queued successfully\n",
    "    400 Bad Request : Failed to submit job file\n",
    "Request Headers\n",
    "    Authorization : Authorization token (Required)\n",
    "    X-Machine-Name : The system name (Required)\n",
    "Response Headers\n",
    "    X-Machine-Does-Not-Exist – Machine does not exist\n",
    "    X-Machine-Not-Available – Machine is not available\n",
    "    X-Permission-Denied – User does not have permissions to access machine\n",
    "    X-sbatch-error – sbatch returned error\n",
    "```\n",
    "\n",
    "The first call is the following:\n"
   ]
  },
  {
   "cell_type": "code",
   "execution_count": null,
   "metadata": {},
   "outputs": [],
   "source": [
    "machine = 'cluster'\n",
    "localPath = 'files/firecrest_script.sh'\n",
    "\n",
    "response = requests.post(\n",
    "    url=f'{FIRECREST_IP}/compute/jobs',\n",
    "    headers={'Authorization': f'Bearer {TOKEN}',\n",
    "             'X-Machine-Name': machine},\n",
    "    files={'file': open(localPath, 'rb')}\n",
    ")\n",
    "\n",
    "handle_response(response)"
   ]
  },
  {
   "cell_type": "markdown",
   "metadata": {},
   "source": [
    "If everything went well you should get the message `Task created` in the json response. This does **not** necessarily mean that your job is created successfully. This only means that the FirecREST task was created.\n",
    "\n",
    "Before running the next cell, copy the taskid from the output and set it correctly. In python it should be a string so don't forget the quotes around the task ID."
   ]
  },
  {
   "cell_type": "code",
   "execution_count": null,
   "metadata": {},
   "outputs": [],
   "source": [
    "# taskid = # Fill this assignment with the correct task_id\n",
    "taskid = '21b0e954e388c303f07b346722f3fbd8'\n",
    "\n",
    "response = requests.get(\n",
    "    url=f'{FIRECREST_IP}/tasks/{taskid}',\n",
    "    headers={'Authorization': f'Bearer {TOKEN}'}\n",
    ")\n",
    "\n",
    "handle_response(response)"
   ]
  },
  {
   "cell_type": "markdown",
   "metadata": {},
   "source": [
    "If your submission was successful you should get the slurm information in the \"data\" field.\n",
    "\n",
    "**All the other fields of the json response are about the FirecREST task and not the scheduler.**\n",
    "\n",
    "### Exercise:\n",
    "\n",
    "1. If you want information about all the tasks of your user, not a specific `task_id` then you should make a call to the `/tasks/` endpoint, without any path parameter. Try to fill the request on your own to get information about all you tasks.\n",
    "\n",
    "<a id='all-tasks-cell'></a>"
   ]
  },
  {
   "cell_type": "code",
   "execution_count": null,
   "metadata": {
    "scrolled": true
   },
   "outputs": [],
   "source": [
    "response = requests.get(\n",
    "    headers={'Authorization': f'Bearer {TOKEN}'},\n",
    "    url= # Fill this assignment with the correct endpoint\n",
    ")\n",
    "\n",
    "handle_response(response)"
   ]
  },
  {
   "cell_type": "markdown",
   "metadata": {},
   "source": [
    "Run the next cell to get the solution."
   ]
  },
  {
   "cell_type": "code",
   "execution_count": null,
   "metadata": {
    "scrolled": true
   },
   "outputs": [],
   "source": [
    "%cat solutions/all_tasks.py"
   ]
  },
  {
   "cell_type": "markdown",
   "metadata": {},
   "source": [
    "## Check for the job's status"
   ]
  },
  {
   "cell_type": "markdown",
   "metadata": {},
   "source": [
    "As soon as we get the slurm job ID, we can get more information on the progress of that job. The call to the `/compute/jobs/{jobid}` endpoint is going to start a FirecREST task for that purpose.\n",
    "\n",
    "Just like with the job submission, this is a two-calls process:\n",
    "\n",
    "1. Make a call to FirecREST to make a new task and get the task's ID.\n",
    "2. Make a call to FirecREST with this task ID to see its results.\n",
    "\n",
    "Before running this cell you should set the jobid to the jobid of the job you want to test."
   ]
  },
  {
   "cell_type": "code",
   "execution_count": null,
   "metadata": {},
   "outputs": [],
   "source": [
    "machine = 'cluster'\n",
    "# jobid = # Fill this assignment with the correct jobid\n",
    "jobid = 2\n",
    "\n",
    "response = requests.get(\n",
    "    url=f'{FIRECREST_IP}/compute/jobs/{jobid}',\n",
    "    headers={'Authorization': f'Bearer {TOKEN}',\n",
    "             'X-Machine-Name': machine}\n",
    ")\n",
    "\n",
    "handle_response(response)\n",
    "\n",
    "# response.ok will be True if no error occured\n",
    "if response.ok:\n",
    "    taskid = response.json()['task_id']\n",
    "    \n",
    "    print(f\"\\n{50*'.'}\")\n",
    "    time.sleep(1)\n",
    "    \n",
    "    response = requests.get(\n",
    "        url=f'{FIRECREST_IP}/tasks/{taskid}',\n",
    "        headers={'Authorization': f'Bearer {TOKEN}'}\n",
    "    )\n",
    "\n",
    "    handle_response(response)"
   ]
  },
  {
   "cell_type": "markdown",
   "metadata": {},
   "source": [
    "### Exercises:\n",
    "\n",
    "1. Try to explain why you (probably) got this error in the second call: `slurm_load_jobs error: Invalid job id specified`\n",
    "2. Try to remove the sleep from the last cell and see what happens.\n",
    "\n",
    "Run the next cell to get a hint for question 1.\n",
    "The second cell includes the solution to both answers."
   ]
  },
  {
   "cell_type": "code",
   "execution_count": null,
   "metadata": {},
   "outputs": [],
   "source": [
    "%cat solutions/invalid_id_hint.txt"
   ]
  },
  {
   "cell_type": "code",
   "execution_count": null,
   "metadata": {},
   "outputs": [],
   "source": [
    "%cat solutions/job_status.txt"
   ]
  },
  {
   "cell_type": "markdown",
   "metadata": {},
   "source": [
    "## Job persistent accounting information\n",
    "\n",
    "If you want persistent information for older jobs you should make a request in the `compute/acct` endpoint like below."
   ]
  },
  {
   "cell_type": "code",
   "execution_count": null,
   "metadata": {},
   "outputs": [],
   "source": [
    "machine = 'cluster'\n",
    "\n",
    "response = requests.get(\n",
    "    url=f'{FIRECREST_IP}/compute/acct?jobs={jobid}',\n",
    "    headers={'Authorization': f'Bearer {TOKEN}',\n",
    "             'X-Machine-Name': machine}\n",
    ")\n",
    "\n",
    "handle_response(response)\n",
    "\n",
    "# response.ok will be True if no error occured\n",
    "if response.ok:\n",
    "    taskid = response.json()['task_id']\n",
    "    \n",
    "    print(f\"\\n{50*'.'}\")\n",
    "    time.sleep(1)\n",
    "    \n",
    "    response = requests.get(\n",
    "        url=f'{FIRECREST_IP}/tasks/{taskid}',\n",
    "        headers={'Authorization': f'Bearer {TOKEN}'}\n",
    "    )\n",
    "\n",
    "    handle_response(response)"
   ]
  },
  {
   "cell_type": "markdown",
   "metadata": {},
   "source": [
    "### Job output\n",
    "\n",
    "When FirecREST submits a job on behalf of the user, a directory will be created in the `$HOME` directory of the user in the machine.\n",
    "\n",
    "The directory is named `firecrest` and its subdirectories are named after the task IDs of the job submissions. In these subdirectories the user can see the job script that was used for the submission as well as the output file(s) if their location is not specified."
   ]
  },
  {
   "cell_type": "markdown",
   "metadata": {},
   "source": [
    "## Upload a bigger file through the Storage microservice\n",
    "\n",
    "For uploading small files the blocking call that we used in a previous section is enough. When the file we want to upload to a machine’s filesystem is bigger than 5MB, we have to use the Storage microservice.\n",
    "\n",
    "In order for you to do this, you won't upload the file directly through FirecREST but to a staging area. This staging area is the Object Storage and you can get more information [here](https://user.cscs.ch/storage/object_storage/).\n",
    "\n",
    "This task will be split into more steps but it will correspond to one FirecREST task, so we have to keep track of one task ID.\n",
    "The steps are:\n",
    "\n",
    "1. the user asks FirecREST for a link to the staging area\n",
    "2. the user uploads the file to the staging area\n",
    "3. FirecREST will poll the staging area and, as soon as the file is uploaded it will transfer it to the filesystem\n",
    "\n",
    "The first step is to send a `POST` request to FirecREST, to the `/storage/xfer-external/upload` endpoint. Besides the `Authorization` token, we have to include the local path of the file we are going to upload (`sourcePath`) and the target location of the transfer (`targetPath`). Both `sourcePath` and `targetPath` are form data parameters.\n",
    "\n",
    "> A small tip before running the next cell. You can click on the output of the cell to minimize it and double click to hide it completely."
   ]
  },
  {
   "cell_type": "code",
   "execution_count": null,
   "metadata": {
    "scrolled": true
   },
   "outputs": [],
   "source": [
    "targetPath = '/home/llama'\n",
    "sourcePath = 'files/firecrest_input_file.txt'\n",
    "\n",
    "response = requests.post(\n",
    "    url=f'{FIRECREST_IP}/storage/xfer-external/upload',\n",
    "    headers={'Authorization': f'Bearer {TOKEN}'},\n",
    "    data={'targetPath': targetPath,\n",
    "          'sourcePath': sourcePath}\n",
    ")\n",
    "\n",
    "handle_response(response)\n",
    "\n",
    "# response.ok will be True if no error occured\n",
    "if response.ok:\n",
    "    taskid = response.json()['task_id']\n",
    "    \n",
    "    print(f\"\\n{50*'.'}\")\n",
    "    time.sleep(1)\n",
    "    \n",
    "    response = requests.get(\n",
    "        url=f'{FIRECREST_IP}/tasks/{taskid}',\n",
    "        headers={'Authorization': f'Bearer {TOKEN}'}\n",
    "    )\n",
    "\n",
    "    handle_response(response)"
   ]
  },
  {
   "cell_type": "markdown",
   "metadata": {},
   "source": [
    "If the call was successful, the output will be very long. The parts that we care about are the `status` of the FirecREST task, which should be `Form URL from Object Storage received` and the command that FirecREST provides.\n",
    "\n",
    "In python json objects are just dictionaries, so we can easily isolate the fields we are interested in."
   ]
  },
  {
   "cell_type": "code",
   "execution_count": null,
   "metadata": {
    "scrolled": true
   },
   "outputs": [],
   "source": [
    "print(f\"Task ID: {response.json()['task']['hash_id']}\\n\"\n",
    "      f\"Task status code: {response.json()['task']['status']}\\n\"\n",
    "      f\"Task status description: {response.json()['task']['description']}\\n\")\n",
    "\n",
    "# You can isolate the \"command\" field, that holds the useful information\n",
    "print(response.json()['task']['data']['msg']['command'])"
   ]
  },
  {
   "cell_type": "markdown",
   "metadata": {},
   "source": [
    "Copy the command after the exclamation mark in the cell below to execute it."
   ]
  },
  {
   "cell_type": "code",
   "execution_count": null,
   "metadata": {},
   "outputs": [],
   "source": [
    "# Add the curl command after the exclamation mark and run the cell\n",
    "! curl ..."
   ]
  },
  {
   "cell_type": "markdown",
   "metadata": {},
   "source": [
    "### Exercise:\n",
    "\n",
    "Let's check again on the FirecREST task, we have done it already many times. Make a `GET` request to `/tasks/{taskid}` and get the status of the task. What is the status of the task now?\n",
    "\n",
    "<a id='get-status-cell'></a>"
   ]
  },
  {
   "cell_type": "code",
   "execution_count": null,
   "metadata": {},
   "outputs": [],
   "source": [
    "# Try to fill the call yourself and run it here.\n",
    "# If you run the next cell you will get the answer.\n"
   ]
  },
  {
   "cell_type": "code",
   "execution_count": null,
   "metadata": {},
   "outputs": [],
   "source": [
    "%cat solutions/get_status_id.py\n"
   ]
  },
  {
   "cell_type": "markdown",
   "metadata": {},
   "source": [
    "### Exercise: Download the output through the Storage microservice\n",
    "\n",
    "Just like we did with the `/storage/xfer-external/upload` call, the user will not directly download the file from FirecREST but through a staging area.\n",
    "\n",
    "The workflow of this task is:\n",
    "\n",
    "1. The user has to make a request to FirecREST to download the file from `sourcePath`, this should be the absolute path in the `cluster` filesystem. This requires at least two calls from the user:\n",
    "  1. Make a request to FirecREST to create the task of external uploading.\n",
    "  2. Poll FirecREST the task until the file has been transfered to the staging area. When it is ready FirecREST will reply with the URL from which we will download it.\n",
    "2. After receiving the URL you have to download the file with a simple `wget` from the link that will be provided by FirecREST.\n",
    "\n",
    "#### Step 1A: Make the FirecREST request\n",
    "\n",
    "In order to fill the request keep in mind that:\n",
    "\n",
    "- It is a `POST` request.\n",
    "- The endpoint is `/storage/xfer-external/download`.\n",
    "- You should pass in the header arguments the `Authorization` token.\n",
    "- The last argument is `sourcePath` and it a form parameter.\n"
   ]
  },
  {
   "cell_type": "code",
   "execution_count": null,
   "metadata": {},
   "outputs": [],
   "source": [
    "sourcePath = '/home/llama/res.txt'\n",
    "\n",
    "response = requests. # Try to fill the request yourself\n",
    "\n",
    "handle_response(response)"
   ]
  },
  {
   "cell_type": "code",
   "execution_count": null,
   "metadata": {},
   "outputs": [],
   "source": [
    "%cat solutions/external_download.py\n"
   ]
  },
  {
   "cell_type": "markdown",
   "metadata": {},
   "source": [
    "#### Step 1B: Based on the reply, check for the status of the task.\n",
    "\n",
    "You have already done this part in [this](#get-status-cell) exercise. Copy it with the correct `taskid`."
   ]
  },
  {
   "cell_type": "code",
   "execution_count": null,
   "metadata": {},
   "outputs": [],
   "source": [
    "# Make a request to FirecREST to get the status of the task you just created.\n"
   ]
  },
  {
   "cell_type": "markdown",
   "metadata": {},
   "source": [
    "Through python we can isolate the field of the response that we are interested in: "
   ]
  },
  {
   "cell_type": "code",
   "execution_count": null,
   "metadata": {
    "scrolled": true
   },
   "outputs": [],
   "source": [
    "print(response.json()['task']['data'])"
   ]
  },
  {
   "cell_type": "code",
   "execution_count": null,
   "metadata": {},
   "outputs": [],
   "source": [
    "# Copy the link and finish the download in bash\n",
    "!wget -O res.txt \"...\"\n"
   ]
  },
  {
   "cell_type": "code",
   "execution_count": null,
   "metadata": {},
   "outputs": [],
   "source": [
    "!cat res.txt"
   ]
  },
  {
   "cell_type": "code",
   "execution_count": null,
   "metadata": {},
   "outputs": [],
   "source": [
    "# This one works for mac\n",
    "!shasum firecrest_input_file.txt\n",
    "\n",
    "# This one works for linux\n",
    "!sha1sum firecrest_input_file.txt"
   ]
  },
  {
   "cell_type": "markdown",
   "metadata": {},
   "source": [
    "If everything went right you should be getting the same result. Now feel free to create more python cells and experiment with more FirecREST calls."
   ]
  },
  {
   "cell_type": "code",
   "execution_count": null,
   "metadata": {},
   "outputs": [],
   "source": []
  }
 ],
 "metadata": {
  "kernelspec": {
   "display_name": "Python 3",
   "language": "python",
   "name": "python3"
  },
  "language_info": {
   "codemirror_mode": {
    "name": "ipython",
    "version": 3
   },
   "file_extension": ".py",
   "mimetype": "text/x-python",
   "name": "python",
   "nbconvert_exporter": "python",
   "pygments_lexer": "ipython3",
   "version": "3.7.4"
  }
 },
 "nbformat": 4,
 "nbformat_minor": 2
}
