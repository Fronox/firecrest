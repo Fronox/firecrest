{
 "cells": [
  {
   "cell_type": "markdown",
   "metadata": {},
   "source": [
    "# FirecREST Tutorial - Part 2: Data Transfer\n",
    "\n",
    "\n",
    "Set your credentials like before and run the cell. You should get status code `200`.\n",
    "\n",
    "#### Cell 2A"
   ]
  },
  {
   "cell_type": "code",
   "execution_count": null,
   "metadata": {},
   "outputs": [],
   "source": [
    "import requests\n",
    "import time\n",
    "import tutorial\n",
    "\n",
    "\n",
    "FIRECREST_IP = 'https://firecrest-tds.cscs.ch:8443'\n",
    "\n",
    "TOKEN=''\n",
    "USER=''\n",
    "DIR=''\n",
    "\n",
    "response = requests.get(\n",
    "    url=f'{FIRECREST_IP}/status/systems',\n",
    "    headers={'Authorization': f'Bearer {TOKEN}'}\n",
    ")\n",
    "\n",
    "tutorial.handle_response(response)"
   ]
  },
  {
   "cell_type": "markdown",
   "metadata": {},
   "source": [
    "# Run the next cell to get the slides"
   ]
  },
  {
   "cell_type": "code",
   "execution_count": null,
   "metadata": {},
   "outputs": [],
   "source": [
    "tutorial.show('external_upload')"
   ]
  },
  {
   "cell_type": "markdown",
   "metadata": {},
   "source": [
    "Now let's see what that looks like in python code!\n",
    "\n",
    "The first step is to send a `POST` request to FirecREST, to the `/storage/xfer-external/upload` endpoint. Besides the `Authorization` token, we have to include the local path of the file we are going to upload (`sourcePath`) and the target location of the transfer (`targetPath`). Both `sourcePath` and `targetPath` are form data parameters.\n",
    "\n",
    "#### Cell 2B (Step 1)"
   ]
  },
  {
   "cell_type": "code",
   "execution_count": null,
   "metadata": {},
   "outputs": [],
   "source": [
    "targetPath = f'/scratch/snx3000/{USER}/{DIR}/test_directory'\n",
    "sourcePath = 'files/firecrest_uploaded_file.txt'\n",
    "\n",
    "response = requests.post(\n",
    "    url=f'{FIRECREST_IP}/storage/xfer-external/upload',\n",
    "    headers={'Authorization': f'Bearer {TOKEN}'},\n",
    "    data={'targetPath': targetPath,\n",
    "          'sourcePath': sourcePath}\n",
    ")\n",
    "\n",
    "tutorial.handle_response(response)"
   ]
  },
  {
   "cell_type": "markdown",
   "metadata": {},
   "source": [
    "If everything went well you should get the message `Task created` in the json response. Before running the next cell, copy the taskid from the output and set it correctly. In python it should be a string so don't forget the quotes around the task ID.\n",
    "\n",
    "#### Cell 2C (Step 2)\n",
    "\n",
    "<a id='get-status-cell'></a>"
   ]
  },
  {
   "cell_type": "code",
   "execution_count": null,
   "metadata": {},
   "outputs": [],
   "source": [
    "taskid = # Fill this assignment with the correct task_id\n",
    "\n",
    "response = requests.get(\n",
    "    url=f'{FIRECREST_IP}/tasks/{taskid}',\n",
    "    headers={'Authorization': f'Bearer {TOKEN}'}\n",
    ")\n",
    "\n",
    "tutorial.handle_response(response)"
   ]
  },
  {
   "cell_type": "markdown",
   "metadata": {},
   "source": [
    "If the call was successful, the output will be long. The parts that we care about are the `status` of the FirecREST task, which should be `Form URL from Object Storage received` and the command that FirecREST provides.\n",
    "\n",
    "In python json objects are just dictionaries, so we can easily isolate the fields we are interested in.\n",
    "\n",
    "#### Cell 2D"
   ]
  },
  {
   "cell_type": "code",
   "execution_count": null,
   "metadata": {
    "scrolled": true
   },
   "outputs": [],
   "source": [
    "print(f\"Task ID: {response.json()['task']['hash_id']}\\n\"\n",
    "      f\"Task status code: {response.json()['task']['status']}\\n\"\n",
    "      f\"Task status description: {response.json()['task']['description']}\\n\")\n",
    "\n",
    "# You can isolate the \"command\" field, that holds the useful information\n",
    "print(response.json()['task']['data']['msg']['command'])"
   ]
  },
  {
   "cell_type": "markdown",
   "metadata": {},
   "source": [
    "Copy the command after the exclamation mark in the cell below to execute it.\n",
    "\n",
    "#### Cell 2E (Step 3)"
   ]
  },
  {
   "cell_type": "code",
   "execution_count": null,
   "metadata": {},
   "outputs": [],
   "source": [
    "# Add the curl command after the exclamation mark and run the cell\n",
    "! curl -i ..."
   ]
  },
  {
   "cell_type": "markdown",
   "metadata": {},
   "source": [
    "**Step 4** will be performed by FirecREST.\n",
    "\n",
    "### Exercise (Step 5):\n",
    "\n",
    "Let's check again on the FirecREST task. Run cell 2C; what is the status of the task now?\n",
    "\n",
    "#### Cell 2F"
   ]
  },
  {
   "cell_type": "code",
   "execution_count": null,
   "metadata": {},
   "outputs": [],
   "source": [
    "%cat solutions/get_status_id.py\n"
   ]
  },
  {
   "cell_type": "markdown",
   "metadata": {},
   "source": [
    "# Download through the Storage Microservice"
   ]
  },
  {
   "cell_type": "code",
   "execution_count": null,
   "metadata": {},
   "outputs": [],
   "source": [
    "tutorial.show('external_download')"
   ]
  },
  {
   "cell_type": "markdown",
   "metadata": {},
   "source": [
    "### Exercise: Let's implement this in python calls.\n",
    "\n",
    "### Step 1: Make the FirecREST request to start the download\n",
    "\n",
    "In order to fill the request keep in mind that:\n",
    "\n",
    "- It is a `POST` request.\n",
    "- The endpoint is `/storage/xfer-external/download`.\n",
    "- You should pass in the header arguments the `Authorization` token.\n",
    "- The last argument is `sourcePath` and it is a form parameter.\n",
    "\n",
    "#### Cell 3G"
   ]
  },
  {
   "cell_type": "code",
   "execution_count": null,
   "metadata": {},
   "outputs": [],
   "source": [
    "sourcePath = f'/scratch/snx3000/{USER}/{DIR}/test_file.txt'\n",
    "\n",
    "response = requests. # Try to fill the request yourself\n",
    "\n",
    "tutorial.handle_response(response)"
   ]
  },
  {
   "cell_type": "markdown",
   "metadata": {},
   "source": [
    "You can get the answer by running the next cell.\n",
    "\n",
    "#### Cell 3H"
   ]
  },
  {
   "cell_type": "code",
   "execution_count": null,
   "metadata": {},
   "outputs": [],
   "source": [
    "%cat solutions/external_download.py\n"
   ]
  },
  {
   "cell_type": "markdown",
   "metadata": {},
   "source": [
    "### Step 2: Check for the status of the task and retrieve the link to Object Storage.\n",
    "\n",
    "You have already done this part [here](#get-status-cell). Copy it to the next cell with the correct `taskid`.\n",
    "\n",
    "#### Cell 3I"
   ]
  },
  {
   "cell_type": "code",
   "execution_count": null,
   "metadata": {},
   "outputs": [],
   "source": [
    "# Make a request to FirecREST to get the status of the task you just created.\n"
   ]
  },
  {
   "cell_type": "markdown",
   "metadata": {},
   "source": [
    "Through python we can isolate the field of the response that we are interested in: \n",
    "\n",
    "#### Cell 3J"
   ]
  },
  {
   "cell_type": "code",
   "execution_count": null,
   "metadata": {
    "scrolled": true
   },
   "outputs": [],
   "source": [
    "print(response.json()['task']['data'])"
   ]
  },
  {
   "cell_type": "markdown",
   "metadata": {},
   "source": [
    "### Step 3: Download the file from Object Storage\n",
    "\n",
    "#### Cell 3K"
   ]
  },
  {
   "cell_type": "code",
   "execution_count": null,
   "metadata": {},
   "outputs": [],
   "source": [
    "# Copy the link and finish the download in bash\n",
    "!wget -O files/downloaded_file.txt \"...\""
   ]
  },
  {
   "cell_type": "markdown",
   "metadata": {},
   "source": [
    "#### Cell 3L"
   ]
  },
  {
   "cell_type": "code",
   "execution_count": null,
   "metadata": {},
   "outputs": [],
   "source": [
    "!cat files/downloaded_file.txt"
   ]
  }
 ],
 "metadata": {
  "kernelspec": {
   "display_name": "Python 3",
   "language": "python",
   "name": "python3"
  },
  "language_info": {
   "codemirror_mode": {
    "name": "ipython",
    "version": 3
   },
   "file_extension": ".py",
   "mimetype": "text/x-python",
   "name": "python",
   "nbconvert_exporter": "python",
   "pygments_lexer": "ipython3",
   "version": "3.6.5"
  }
 },
 "nbformat": 4,
 "nbformat_minor": 4
}
